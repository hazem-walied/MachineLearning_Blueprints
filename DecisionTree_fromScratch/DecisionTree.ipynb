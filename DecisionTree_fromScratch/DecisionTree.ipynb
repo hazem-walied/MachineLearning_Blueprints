{
 "cells": [
  {
   "cell_type": "code",
   "execution_count": 1,
   "metadata": {},
   "outputs": [],
   "source": [
    "import numpy as np\n",
    "import pandas as pd"
   ]
  },
  {
   "cell_type": "code",
   "execution_count": 2,
   "metadata": {},
   "outputs": [
    {
     "data": {
      "text/html": [
       "<div>\n",
       "<style scoped>\n",
       "    .dataframe tbody tr th:only-of-type {\n",
       "        vertical-align: middle;\n",
       "    }\n",
       "\n",
       "    .dataframe tbody tr th {\n",
       "        vertical-align: top;\n",
       "    }\n",
       "\n",
       "    .dataframe thead th {\n",
       "        text-align: right;\n",
       "    }\n",
       "</style>\n",
       "<table border=\"1\" class=\"dataframe\">\n",
       "  <thead>\n",
       "    <tr style=\"text-align: right;\">\n",
       "      <th></th>\n",
       "      <th>Outlook</th>\n",
       "      <th>Temperature</th>\n",
       "      <th>Humidity</th>\n",
       "      <th>Wind</th>\n",
       "      <th>Play Tennis</th>\n",
       "    </tr>\n",
       "  </thead>\n",
       "  <tbody>\n",
       "    <tr>\n",
       "      <th>0</th>\n",
       "      <td>Sunny</td>\n",
       "      <td>Hot</td>\n",
       "      <td>High</td>\n",
       "      <td>Weak</td>\n",
       "      <td>No</td>\n",
       "    </tr>\n",
       "    <tr>\n",
       "      <th>1</th>\n",
       "      <td>Sunny</td>\n",
       "      <td>Hot</td>\n",
       "      <td>High</td>\n",
       "      <td>Strong</td>\n",
       "      <td>No</td>\n",
       "    </tr>\n",
       "    <tr>\n",
       "      <th>2</th>\n",
       "      <td>Overcast</td>\n",
       "      <td>Hot</td>\n",
       "      <td>High</td>\n",
       "      <td>Weak</td>\n",
       "      <td>Yes</td>\n",
       "    </tr>\n",
       "    <tr>\n",
       "      <th>3</th>\n",
       "      <td>Rain</td>\n",
       "      <td>Mild</td>\n",
       "      <td>High</td>\n",
       "      <td>Weak</td>\n",
       "      <td>Yes</td>\n",
       "    </tr>\n",
       "    <tr>\n",
       "      <th>4</th>\n",
       "      <td>Rain</td>\n",
       "      <td>Cool</td>\n",
       "      <td>Normal</td>\n",
       "      <td>Weak</td>\n",
       "      <td>Yes</td>\n",
       "    </tr>\n",
       "    <tr>\n",
       "      <th>5</th>\n",
       "      <td>Rain</td>\n",
       "      <td>Cool</td>\n",
       "      <td>Normal</td>\n",
       "      <td>Strong</td>\n",
       "      <td>No</td>\n",
       "    </tr>\n",
       "    <tr>\n",
       "      <th>6</th>\n",
       "      <td>Overcast</td>\n",
       "      <td>Cool</td>\n",
       "      <td>Normal</td>\n",
       "      <td>Strong</td>\n",
       "      <td>Yes</td>\n",
       "    </tr>\n",
       "    <tr>\n",
       "      <th>7</th>\n",
       "      <td>Sunny</td>\n",
       "      <td>Mild</td>\n",
       "      <td>High</td>\n",
       "      <td>Weak</td>\n",
       "      <td>No</td>\n",
       "    </tr>\n",
       "    <tr>\n",
       "      <th>8</th>\n",
       "      <td>Sunny</td>\n",
       "      <td>Cool</td>\n",
       "      <td>Normal</td>\n",
       "      <td>Weak</td>\n",
       "      <td>Yes</td>\n",
       "    </tr>\n",
       "    <tr>\n",
       "      <th>9</th>\n",
       "      <td>Rain</td>\n",
       "      <td>Mild</td>\n",
       "      <td>Normal</td>\n",
       "      <td>Weak</td>\n",
       "      <td>Yes</td>\n",
       "    </tr>\n",
       "    <tr>\n",
       "      <th>10</th>\n",
       "      <td>Sunny</td>\n",
       "      <td>Mild</td>\n",
       "      <td>Normal</td>\n",
       "      <td>Strong</td>\n",
       "      <td>Yes</td>\n",
       "    </tr>\n",
       "    <tr>\n",
       "      <th>11</th>\n",
       "      <td>Overcast</td>\n",
       "      <td>Mild</td>\n",
       "      <td>High</td>\n",
       "      <td>Strong</td>\n",
       "      <td>Yes</td>\n",
       "    </tr>\n",
       "    <tr>\n",
       "      <th>12</th>\n",
       "      <td>Overcast</td>\n",
       "      <td>Hot</td>\n",
       "      <td>Normal</td>\n",
       "      <td>Weak</td>\n",
       "      <td>Yes</td>\n",
       "    </tr>\n",
       "    <tr>\n",
       "      <th>13</th>\n",
       "      <td>Rain</td>\n",
       "      <td>Mild</td>\n",
       "      <td>High</td>\n",
       "      <td>Strong</td>\n",
       "      <td>No</td>\n",
       "    </tr>\n",
       "  </tbody>\n",
       "</table>\n",
       "</div>"
      ],
      "text/plain": [
       "     Outlook Temperature Humidity    Wind Play Tennis\n",
       "0      Sunny         Hot     High    Weak          No\n",
       "1      Sunny         Hot     High  Strong          No\n",
       "2   Overcast         Hot     High    Weak         Yes\n",
       "3       Rain        Mild     High    Weak         Yes\n",
       "4       Rain        Cool   Normal    Weak         Yes\n",
       "5       Rain        Cool   Normal  Strong          No\n",
       "6   Overcast        Cool   Normal  Strong         Yes\n",
       "7      Sunny        Mild     High    Weak          No\n",
       "8      Sunny        Cool   Normal    Weak         Yes\n",
       "9       Rain        Mild   Normal    Weak         Yes\n",
       "10     Sunny        Mild   Normal  Strong         Yes\n",
       "11  Overcast        Mild     High  Strong         Yes\n",
       "12  Overcast         Hot   Normal    Weak         Yes\n",
       "13      Rain        Mild     High  Strong          No"
      ]
     },
     "execution_count": 2,
     "metadata": {},
     "output_type": "execute_result"
    }
   ],
   "source": [
    "data = pd.read_csv('PlayTennis.csv')\n",
    "data"
   ]
  },
  {
   "cell_type": "code",
   "execution_count": 3,
   "metadata": {},
   "outputs": [
    {
     "data": {
      "text/plain": [
       "<bound method NDFrame.describe of      Outlook Temperature Humidity    Wind Play Tennis\n",
       "0      Sunny         Hot     High    Weak          No\n",
       "1      Sunny         Hot     High  Strong          No\n",
       "2   Overcast         Hot     High    Weak         Yes\n",
       "3       Rain        Mild     High    Weak         Yes\n",
       "4       Rain        Cool   Normal    Weak         Yes\n",
       "5       Rain        Cool   Normal  Strong          No\n",
       "6   Overcast        Cool   Normal  Strong         Yes\n",
       "7      Sunny        Mild     High    Weak          No\n",
       "8      Sunny        Cool   Normal    Weak         Yes\n",
       "9       Rain        Mild   Normal    Weak         Yes\n",
       "10     Sunny        Mild   Normal  Strong         Yes\n",
       "11  Overcast        Mild     High  Strong         Yes\n",
       "12  Overcast         Hot   Normal    Weak         Yes\n",
       "13      Rain        Mild     High  Strong          No>"
      ]
     },
     "execution_count": 3,
     "metadata": {},
     "output_type": "execute_result"
    }
   ],
   "source": [
    "data.describe"
   ]
  },
  {
   "cell_type": "markdown",
   "metadata": {},
   "source": [
    "# Entropy"
   ]
  },
  {
   "cell_type": "code",
   "execution_count": 4,
   "metadata": {},
   "outputs": [
    {
     "name": "stdout",
     "output_type": "stream",
     "text": [
      "0.9402859586706311\n"
     ]
    }
   ],
   "source": [
    "def entropy(dataFrame):\n",
    "    yes_count = (dataFrame['Play Tennis'] == 'Yes').sum()\n",
    "    no_count = len(dataFrame) - yes_count\n",
    "\n",
    "    if(yes_count==0 or no_count==0):\n",
    "        return 0\n",
    "\n",
    "    entropy = -(yes_count/len(dataFrame))*np.log2(yes_count/len(dataFrame)) - (no_count/len(dataFrame))*np.log2(no_count/len(dataFrame)) \n",
    "    return entropy\n",
    "    \n",
    "print(entropy(data))"
   ]
  },
  {
   "cell_type": "markdown",
   "metadata": {},
   "source": [
    "# Average Entropy"
   ]
  },
  {
   "cell_type": "code",
   "execution_count": 5,
   "metadata": {},
   "outputs": [
    {
     "name": "stdout",
     "output_type": "stream",
     "text": [
      "0.6935361388961918\n"
     ]
    }
   ],
   "source": [
    "def average_entropy(data,columnName):\n",
    "    avgEntropy = 0\n",
    "    uniqueValues = data[columnName].unique()\n",
    "    for i in range(len(uniqueValues)):\n",
    "        newDf = data[data[columnName] == uniqueValues[i]]\n",
    "        fraction = len(newDf)/len(data)\n",
    "        avgEntropy = avgEntropy +(fraction*entropy(newDf))\n",
    "\n",
    "    return avgEntropy\n",
    "\n",
    "print(average_entropy(data,'Outlook'))"
   ]
  },
  {
   "cell_type": "markdown",
   "metadata": {},
   "source": [
    "# Information Gain"
   ]
  },
  {
   "cell_type": "code",
   "execution_count": 6,
   "metadata": {},
   "outputs": [
    {
     "name": "stdout",
     "output_type": "stream",
     "text": [
      "0.24674981977443933\n"
     ]
    }
   ],
   "source": [
    "def information_gain(data,columnName):\n",
    "    gain = entropy(data) - average_entropy(data,columnName)\n",
    "\n",
    "    return gain\n",
    "print(information_gain(data,'Outlook'))"
   ]
  },
  {
   "cell_type": "markdown",
   "metadata": {},
   "source": [
    "# Max Gain"
   ]
  },
  {
   "cell_type": "code",
   "execution_count": 7,
   "metadata": {},
   "outputs": [
    {
     "name": "stdout",
     "output_type": "stream",
     "text": [
      "Outlook\n"
     ]
    }
   ],
   "source": [
    "def max_gain(dataFrame):\n",
    "    infoGain = []\n",
    "    for key in dataFrame.keys()[:-1]:\n",
    "        infoGain.append(information_gain(dataFrame,key))\n",
    "        \n",
    "    return dataFrame.keys()[:-1][np.argmax(infoGain)]\n",
    "\n",
    "print(max_gain(data))"
   ]
  },
  {
   "cell_type": "markdown",
   "metadata": {},
   "source": [
    "# Build Tree"
   ]
  },
  {
   "cell_type": "code",
   "execution_count": 8,
   "metadata": {},
   "outputs": [],
   "source": [
    "def buildTree(dataFrame): \n",
    "    tree = None\n",
    "    target = dataFrame.keys()[-1]   \n",
    "    node = max_gain(dataFrame)\n",
    "    uniqueVals = np.unique(dataFrame[node])\n",
    "\n",
    "    if tree is None:\n",
    "        tree={}\n",
    "        tree[node] = {}\n",
    "\n",
    "    for value in uniqueVals:\n",
    "        subtable = dataFrame[dataFrame[node] == value].reset_index(drop=True)\n",
    "        clValue,counts = np.unique(subtable[target],return_counts=True)\n",
    "\n",
    "        # if pure then it is a leaf node\n",
    "        if len(counts)==1:\n",
    "            tree[node][value] = clValue[0]\n",
    "        else:\n",
    "            tree[node][value] = buildTree(subtable) \n",
    "\n",
    "    return tree"
   ]
  },
  {
   "cell_type": "code",
   "execution_count": 9,
   "metadata": {},
   "outputs": [
    {
     "name": "stdout",
     "output_type": "stream",
     "text": [
      "{'Outlook': {'Overcast': 'Yes', 'Rain': {'Wind': {'Strong': 'No', 'Weak': 'Yes'}}, 'Sunny': {'Humidity': {'High': 'No', 'Normal': 'Yes'}}}}\n"
     ]
    }
   ],
   "source": [
    "tree = buildTree(data)\n",
    "print(tree)"
   ]
  },
  {
   "cell_type": "markdown",
   "metadata": {},
   "source": [
    "# Plotting the Tree"
   ]
  },
  {
   "cell_type": "code",
   "execution_count": 10,
   "metadata": {},
   "outputs": [],
   "source": [
    "from graphviz import Digraph\n",
    "from IPython.display import display\n",
    "from graphviz import Source\n",
    "\n",
    "def plot_tree(tree, parent_name='', edge_label='', counter=0):\n",
    "    counter += 1\n",
    "    if isinstance(tree, str):  \n",
    "        node_name = f'node{counter}'\n",
    "        graph.node(node_name, label=tree, shape='ellipse')\n",
    "        graph.edge(parent_name, node_name, label=edge_label)\n",
    "        return counter\n",
    "\n",
    "    for feature in tree:\n",
    "        node_name = f'node{counter}'\n",
    "        graph.node(node_name, label=feature, shape='box')\n",
    "        if parent_name:\n",
    "            graph.edge(parent_name, node_name, label=edge_label)\n",
    "        for value in tree[feature]:\n",
    "            counter = plot_tree(tree[feature][value], node_name, str(value), counter)\n",
    "\n",
    "    return counter"
   ]
  },
  {
   "cell_type": "code",
   "execution_count": 11,
   "metadata": {},
   "outputs": [
    {
     "data": {
      "image/svg+xml": [
       "<?xml version=\"1.0\" encoding=\"UTF-8\" standalone=\"no\"?>\n",
       "<!DOCTYPE svg PUBLIC \"-//W3C//DTD SVG 1.1//EN\"\n",
       " \"http://www.w3.org/Graphics/SVG/1.1/DTD/svg11.dtd\">\n",
       "<!-- Generated by graphviz version 10.0.1 (20240210.2158)\n",
       " -->\n",
       "<!-- Pages: 1 -->\n",
       "<svg width=\"283pt\" height=\"220pt\"\n",
       " viewBox=\"0.00 0.00 283.00 219.50\" xmlns=\"http://www.w3.org/2000/svg\" xmlns:xlink=\"http://www.w3.org/1999/xlink\">\n",
       "<g id=\"graph0\" class=\"graph\" transform=\"scale(1 1) rotate(0) translate(4 215.5)\">\n",
       "<polygon fill=\"white\" stroke=\"none\" points=\"-4,4 -4,-215.5 279,-215.5 279,4 -4,4\"/>\n",
       "<!-- node1 -->\n",
       "<g id=\"node1\" class=\"node\">\n",
       "<title>node1</title>\n",
       "<polygon fill=\"none\" stroke=\"black\" points=\"130.88,-211.5 69.12,-211.5 69.12,-175.5 130.88,-175.5 130.88,-211.5\"/>\n",
       "<text text-anchor=\"middle\" x=\"100\" y=\"-188.07\" font-family=\"Times New Roman,serif\" font-size=\"14.00\">Outlook</text>\n",
       "</g>\n",
       "<!-- node2 -->\n",
       "<g id=\"node2\" class=\"node\">\n",
       "<title>node2</title>\n",
       "<ellipse fill=\"none\" stroke=\"black\" cx=\"27\" cy=\"-105.75\" rx=\"27\" ry=\"18\"/>\n",
       "<text text-anchor=\"middle\" x=\"27\" y=\"-100.33\" font-family=\"Times New Roman,serif\" font-size=\"14.00\">Yes</text>\n",
       "</g>\n",
       "<!-- node1&#45;&gt;node2 -->\n",
       "<g id=\"edge1\" class=\"edge\">\n",
       "<title>node1&#45;&gt;node2</title>\n",
       "<path fill=\"none\" stroke=\"black\" d=\"M68.83,-177.19C60.45,-171.88 51.99,-165.28 45.75,-157.5 40.4,-150.83 36.48,-142.48 33.66,-134.49\"/>\n",
       "<polygon fill=\"black\" stroke=\"black\" points=\"37.06,-133.64 30.79,-125.1 30.36,-135.69 37.06,-133.64\"/>\n",
       "<text text-anchor=\"middle\" x=\"71.12\" y=\"-144.2\" font-family=\"Times New Roman,serif\" font-size=\"14.00\">Overcast</text>\n",
       "</g>\n",
       "<!-- node3 -->\n",
       "<g id=\"node3\" class=\"node\">\n",
       "<title>node3</title>\n",
       "<polygon fill=\"none\" stroke=\"black\" points=\"126,-123.75 72,-123.75 72,-87.75 126,-87.75 126,-123.75\"/>\n",
       "<text text-anchor=\"middle\" x=\"99\" y=\"-100.33\" font-family=\"Times New Roman,serif\" font-size=\"14.00\">Wind</text>\n",
       "</g>\n",
       "<!-- node1&#45;&gt;node3 -->\n",
       "<g id=\"edge2\" class=\"edge\">\n",
       "<title>node1&#45;&gt;node3</title>\n",
       "<path fill=\"none\" stroke=\"black\" d=\"M99.8,-175.15C99.66,-163.76 99.49,-148.59 99.33,-135.43\"/>\n",
       "<polygon fill=\"black\" stroke=\"black\" points=\"102.84,-135.55 99.22,-125.59 95.84,-135.63 102.84,-135.55\"/>\n",
       "<text text-anchor=\"middle\" x=\"112.75\" y=\"-144.2\" font-family=\"Times New Roman,serif\" font-size=\"14.00\">Rain</text>\n",
       "</g>\n",
       "<!-- node6 -->\n",
       "<g id=\"node6\" class=\"node\">\n",
       "<title>node6</title>\n",
       "<polygon fill=\"none\" stroke=\"black\" points=\"211.5,-123.75 144.5,-123.75 144.5,-87.75 211.5,-87.75 211.5,-123.75\"/>\n",
       "<text text-anchor=\"middle\" x=\"178\" y=\"-100.33\" font-family=\"Times New Roman,serif\" font-size=\"14.00\">Humidity</text>\n",
       "</g>\n",
       "<!-- node1&#45;&gt;node6 -->\n",
       "<g id=\"edge5\" class=\"edge\">\n",
       "<title>node1&#45;&gt;node6</title>\n",
       "<path fill=\"none\" stroke=\"black\" d=\"M115.78,-175.15C126.99,-162.83 142.22,-146.09 154.8,-132.25\"/>\n",
       "<polygon fill=\"black\" stroke=\"black\" points=\"157.08,-134.95 161.22,-125.2 151.9,-130.24 157.08,-134.95\"/>\n",
       "<text text-anchor=\"middle\" x=\"163.62\" y=\"-144.2\" font-family=\"Times New Roman,serif\" font-size=\"14.00\">Sunny</text>\n",
       "</g>\n",
       "<!-- node4 -->\n",
       "<g id=\"node4\" class=\"node\">\n",
       "<title>node4</title>\n",
       "<ellipse fill=\"none\" stroke=\"black\" cx=\"29\" cy=\"-18\" rx=\"27\" ry=\"18\"/>\n",
       "<text text-anchor=\"middle\" x=\"29\" y=\"-12.57\" font-family=\"Times New Roman,serif\" font-size=\"14.00\">No</text>\n",
       "</g>\n",
       "<!-- node3&#45;&gt;node4 -->\n",
       "<g id=\"edge3\" class=\"edge\">\n",
       "<title>node3&#45;&gt;node4</title>\n",
       "<path fill=\"none\" stroke=\"black\" d=\"M76.31,-87.45C70.14,-82.15 63.72,-76.05 58.5,-69.75 52.37,-62.36 46.76,-53.53 42.11,-45.33\"/>\n",
       "<polygon fill=\"black\" stroke=\"black\" points=\"45.32,-43.91 37.49,-36.76 39.16,-47.23 45.32,-43.91\"/>\n",
       "<text text-anchor=\"middle\" x=\"77.75\" y=\"-56.45\" font-family=\"Times New Roman,serif\" font-size=\"14.00\">Strong</text>\n",
       "</g>\n",
       "<!-- node5 -->\n",
       "<g id=\"node5\" class=\"node\">\n",
       "<title>node5</title>\n",
       "<ellipse fill=\"none\" stroke=\"black\" cx=\"101\" cy=\"-18\" rx=\"27\" ry=\"18\"/>\n",
       "<text text-anchor=\"middle\" x=\"101\" y=\"-12.57\" font-family=\"Times New Roman,serif\" font-size=\"14.00\">Yes</text>\n",
       "</g>\n",
       "<!-- node3&#45;&gt;node5 -->\n",
       "<g id=\"edge4\" class=\"edge\">\n",
       "<title>node3&#45;&gt;node5</title>\n",
       "<path fill=\"none\" stroke=\"black\" d=\"M99.4,-87.4C99.67,-76.01 100.02,-60.84 100.33,-47.68\"/>\n",
       "<polygon fill=\"black\" stroke=\"black\" points=\"103.83,-47.92 100.56,-37.84 96.83,-47.76 103.83,-47.92\"/>\n",
       "<text text-anchor=\"middle\" x=\"117.12\" y=\"-56.45\" font-family=\"Times New Roman,serif\" font-size=\"14.00\">Weak</text>\n",
       "</g>\n",
       "<!-- node7 -->\n",
       "<g id=\"node7\" class=\"node\">\n",
       "<title>node7</title>\n",
       "<ellipse fill=\"none\" stroke=\"black\" cx=\"176\" cy=\"-18\" rx=\"27\" ry=\"18\"/>\n",
       "<text text-anchor=\"middle\" x=\"176\" y=\"-12.57\" font-family=\"Times New Roman,serif\" font-size=\"14.00\">No</text>\n",
       "</g>\n",
       "<!-- node6&#45;&gt;node7 -->\n",
       "<g id=\"edge6\" class=\"edge\">\n",
       "<title>node6&#45;&gt;node7</title>\n",
       "<path fill=\"none\" stroke=\"black\" d=\"M177.6,-87.4C177.33,-76.01 176.98,-60.84 176.67,-47.68\"/>\n",
       "<polygon fill=\"black\" stroke=\"black\" points=\"180.17,-47.76 176.44,-37.84 173.17,-47.92 180.17,-47.76\"/>\n",
       "<text text-anchor=\"middle\" x=\"191.12\" y=\"-56.45\" font-family=\"Times New Roman,serif\" font-size=\"14.00\">High</text>\n",
       "</g>\n",
       "<!-- node8 -->\n",
       "<g id=\"node8\" class=\"node\">\n",
       "<title>node8</title>\n",
       "<ellipse fill=\"none\" stroke=\"black\" cx=\"248\" cy=\"-18\" rx=\"27\" ry=\"18\"/>\n",
       "<text text-anchor=\"middle\" x=\"248\" y=\"-12.57\" font-family=\"Times New Roman,serif\" font-size=\"14.00\">Yes</text>\n",
       "</g>\n",
       "<!-- node6&#45;&gt;node8 -->\n",
       "<g id=\"edge7\" class=\"edge\">\n",
       "<title>node6&#45;&gt;node8</title>\n",
       "<path fill=\"none\" stroke=\"black\" d=\"M193.1,-87.42C197.91,-81.82 203.22,-75.56 208,-69.75 215.04,-61.19 222.6,-51.67 229.24,-43.22\"/>\n",
       "<polygon fill=\"black\" stroke=\"black\" points=\"231.93,-45.46 235.33,-35.42 226.41,-41.15 231.93,-45.46\"/>\n",
       "<text text-anchor=\"middle\" x=\"240.62\" y=\"-56.45\" font-family=\"Times New Roman,serif\" font-size=\"14.00\">Normal</text>\n",
       "</g>\n",
       "</g>\n",
       "</svg>\n"
      ],
      "text/plain": [
       "<graphviz.sources.Source at 0x204e93c5e50>"
      ]
     },
     "metadata": {},
     "output_type": "display_data"
    }
   ],
   "source": [
    "graph = Digraph()\n",
    "plot_tree(tree)\n",
    "graph.view()\n",
    "\n",
    "dot_format = graph.source\n",
    "s = Source(dot_format, filename=\"test.gv\", format=\"png\")\n",
    "display(s)"
   ]
  },
  {
   "cell_type": "code",
   "execution_count": null,
   "metadata": {},
   "outputs": [],
   "source": []
  }
 ],
 "metadata": {
  "kernelspec": {
   "display_name": "Python 3",
   "language": "python",
   "name": "python3"
  },
  "language_info": {
   "codemirror_mode": {
    "name": "ipython",
    "version": 3
   },
   "file_extension": ".py",
   "mimetype": "text/x-python",
   "name": "python",
   "nbconvert_exporter": "python",
   "pygments_lexer": "ipython3",
   "version": "3.11.5"
  }
 },
 "nbformat": 4,
 "nbformat_minor": 2
}
